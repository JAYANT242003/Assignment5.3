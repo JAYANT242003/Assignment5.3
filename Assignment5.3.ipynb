{
 "cells": [
  {
   "cell_type": "code",
   "execution_count": null,
   "id": "654a2584-4f00-422e-bc4a-f6d52835c39c",
   "metadata": {},
   "outputs": [],
   "source": []
  },
  {
   "cell_type": "code",
   "execution_count": null,
   "id": "622274e7-5dc4-4c59-9cfa-99d145abe598",
   "metadata": {},
   "outputs": [],
   "source": []
  },
  {
   "cell_type": "code",
   "execution_count": null,
   "id": "d00baee5-e07d-45c7-998e-89b34c87ac94",
   "metadata": {},
   "outputs": [],
   "source": []
  },
  {
   "cell_type": "code",
   "execution_count": null,
   "id": "2049a5a3-1cc1-4d9d-9604-8fcbaa85c026",
   "metadata": {},
   "outputs": [],
   "source": []
  },
  {
   "cell_type": "code",
   "execution_count": null,
   "id": "73431e5d-23d3-42e9-8c5a-ecef3a8d520b",
   "metadata": {},
   "outputs": [],
   "source": []
  },
  {
   "cell_type": "code",
   "execution_count": null,
   "id": "2a8d583e-c69f-496d-b45b-dede8ca2c337",
   "metadata": {},
   "outputs": [],
   "source": []
  },
  {
   "cell_type": "code",
   "execution_count": null,
   "id": "2500128d-0203-4b7d-bfdc-6da4fbe25d13",
   "metadata": {},
   "outputs": [],
   "source": []
  },
  {
   "cell_type": "code",
   "execution_count": null,
   "id": "387647cd-8837-485b-adbd-3cadf90e6cbe",
   "metadata": {},
   "outputs": [],
   "source": []
  },
  {
   "cell_type": "code",
   "execution_count": null,
   "id": "cb724ddd-dec7-4b4c-9a3a-6564630db65b",
   "metadata": {},
   "outputs": [],
   "source": [
    "Q1."
   ]
  },
  {
   "cell_type": "code",
   "execution_count": null,
   "id": "dad01568-cd8a-4e84-bfa6-3d198ab4e16c",
   "metadata": {},
   "outputs": [],
   "source": [
    "Multithreading in Python refers to the concurrent execution of multiple threads (smaller units of a process) within a single program."
   ]
  },
  {
   "cell_type": "code",
   "execution_count": null,
   "id": "7f454e4a-1480-4b01-9d71-1963a56cbef2",
   "metadata": {},
   "outputs": [],
   "source": [
    "The threading module is commonly used to handle threads in Python. This module provides a way to create and manage threads, allowing developers to write concurrent programs more easily. "
   ]
  },
  {
   "cell_type": "code",
   "execution_count": null,
   "id": "4055e8f2-4c2a-41da-8062-b6d0cc8fb51f",
   "metadata": {},
   "outputs": [],
   "source": []
  },
  {
   "cell_type": "code",
   "execution_count": null,
   "id": "c6e8da88-f158-4542-8700-6758c94ac1c1",
   "metadata": {},
   "outputs": [],
   "source": []
  },
  {
   "cell_type": "code",
   "execution_count": null,
   "id": "e5275797-8b77-49fa-a255-6f9b395c21c4",
   "metadata": {},
   "outputs": [],
   "source": [
    "Q2."
   ]
  },
  {
   "cell_type": "code",
   "execution_count": null,
   "id": "2d43c99d-8650-4f33-88d1-7836edabfc0d",
   "metadata": {},
   "outputs": [],
   "source": [
    "The threading module in Python is used for creating and managing threads. Threads are lightweight, smaller units of a process that can run concurrently, allowing multiple tasks to be performed simultaneously."
   ]
  },
  {
   "cell_type": "code",
   "execution_count": null,
   "id": "264b7d31-6575-462b-a535-323a29d83902",
   "metadata": {},
   "outputs": [],
   "source": [
    "ActiveCount : In Python threading module, the activeCount method is used to retrieve the number of Thread objects currently alive. A Thread object represents an independent flow of control in the program."
   ]
  },
  {
   "cell_type": "code",
   "execution_count": null,
   "id": "1d77e3c9-8c2f-47a2-ac08-f0e28c069193",
   "metadata": {},
   "outputs": [],
   "source": [
    "CurrentThreadIn Python threading module, the currentThread function is used to obtain the current Thread object, representing the thread from which the function is called. This function returns a Thread object corresponding to the caller's thread."
   ]
  },
  {
   "cell_type": "code",
   "execution_count": null,
   "id": "5db290f3-2c46-4a6b-8ca2-70115eb28579",
   "metadata": {},
   "outputs": [],
   "source": [
    "Enumerate : In the context of the threading module in Python, the term \"enumerate\" doesnt refer to the built-in enumerate function that is used with iterables. Instead, in the context of threads, you might be referring to the enumerate method provided by the enumerate() function in the threading module."
   ]
  },
  {
   "cell_type": "code",
   "execution_count": null,
   "id": "f3339120-be30-4e25-b70a-b4b3fb9b9c84",
   "metadata": {},
   "outputs": [],
   "source": []
  },
  {
   "cell_type": "code",
   "execution_count": null,
   "id": "3ce7359b-8f1f-4aca-8dc5-35ae683dea0a",
   "metadata": {},
   "outputs": [],
   "source": []
  },
  {
   "cell_type": "code",
   "execution_count": null,
   "id": "505d6658-8809-430c-9cfc-e7eeadf3b9d5",
   "metadata": {},
   "outputs": [],
   "source": [
    "Q3."
   ]
  },
  {
   "cell_type": "code",
   "execution_count": null,
   "id": "42aaf8c3-1736-4054-bd25-a162bf461e99",
   "metadata": {},
   "outputs": [],
   "source": [
    "run() : run is a method that you can override in your custom thread class. \n",
    "start() : start is a method of the Thread class that is used to initiate the execution of the thread. \n",
    "join() : The join method is used to wait for the thread to complete its execution.\n",
    "isAlive() : The isAlive method is used to check whether a thread is currently executing (alive) or has finished its execution."
   ]
  },
  {
   "cell_type": "code",
   "execution_count": null,
   "id": "87e8cdfc-6ab0-4bf2-8373-1be0510001fa",
   "metadata": {},
   "outputs": [],
   "source": []
  },
  {
   "cell_type": "code",
   "execution_count": null,
   "id": "77beca96-42dc-4b4f-8820-be66234ebe20",
   "metadata": {},
   "outputs": [],
   "source": []
  },
  {
   "cell_type": "code",
   "execution_count": null,
   "id": "e6d45d5c-5a99-48e0-92bf-711f065b3566",
   "metadata": {},
   "outputs": [],
   "source": [
    "Q4."
   ]
  },
  {
   "cell_type": "code",
   "execution_count": 39,
   "id": "0d17cf3a-b4fe-454a-bec3-2e4fc376db4b",
   "metadata": {},
   "outputs": [],
   "source": [
    "import threading"
   ]
  },
  {
   "cell_type": "code",
   "execution_count": 40,
   "id": "74977142-109d-4666-94a4-171894816056",
   "metadata": {},
   "outputs": [],
   "source": [
    "def square(n):\n",
    "    n = n**2\n",
    "    print(n)"
   ]
  },
  {
   "cell_type": "code",
   "execution_count": 41,
   "id": "80b3d6d2-4297-4a4d-a334-3cf7cafa7393",
   "metadata": {},
   "outputs": [],
   "source": [
    "def cube(m):\n",
    "    m = m**2\n",
    "    print(m)"
   ]
  },
  {
   "cell_type": "code",
   "execution_count": 42,
   "id": "67aef684-b374-4dae-87b4-19c23547267d",
   "metadata": {},
   "outputs": [],
   "source": [
    "file = [square, cube]"
   ]
  },
  {
   "cell_type": "code",
   "execution_count": 43,
   "id": "9dc22880-8df7-4e8d-8ee6-07c8310b9523",
   "metadata": {},
   "outputs": [],
   "source": [
    "thread =[threading.Thread(target=file, args=(square[i],cube[i])) for i in range(10)] \n",
    " \n",
    "\n",
    "for t in thread:\n",
    "    t.start\n"
   ]
  },
  {
   "cell_type": "code",
   "execution_count": 26,
   "id": "91b92d55-44ff-426b-93f6-5bbca1652041",
   "metadata": {},
   "outputs": [
    {
     "name": "stdout",
     "output_type": "stream",
     "text": [
      "64 27\n"
     ]
    }
   ],
   "source": [
    "square(8,3)"
   ]
  },
  {
   "cell_type": "code",
   "execution_count": null,
   "id": "52010c66-85b2-4097-acf0-01623204bf6c",
   "metadata": {},
   "outputs": [],
   "source": []
  },
  {
   "cell_type": "code",
   "execution_count": null,
   "id": "bce16164-9cd3-47b7-854c-beba53866897",
   "metadata": {},
   "outputs": [],
   "source": [
    "Q5."
   ]
  },
  {
   "cell_type": "code",
   "execution_count": null,
   "id": "fe66eec6-e413-44fa-ad16-f941ab933294",
   "metadata": {},
   "outputs": [],
   "source": [
    "Advantages of Multithreading\n",
    "1. Improved Performance\n",
    "2. Responsiveness\n",
    "3. Resource Sharing\n",
    "4. Efficient I/O Operations\n",
    "5. Simplified Program Structure\n",
    "\n",
    "Disadvantages of Multithreading:\n",
    "1. Complexity and Debugging\n",
    "2. Race Conditions\n",
    "3. Difficulty in Reproducing Bugs\n",
    "4. Overhead\n",
    "5. Resource Contentions"
   ]
  },
  {
   "cell_type": "code",
   "execution_count": null,
   "id": "bb7f4185-a84a-4c20-b318-456bd586132e",
   "metadata": {},
   "outputs": [],
   "source": []
  },
  {
   "cell_type": "code",
   "execution_count": null,
   "id": "f81b72fe-991d-46b2-bfe6-5b9dc92affb4",
   "metadata": {},
   "outputs": [],
   "source": []
  },
  {
   "cell_type": "code",
   "execution_count": null,
   "id": "df3d15a4-6073-497e-b613-56e1578d5ae6",
   "metadata": {},
   "outputs": [],
   "source": [
    "Q6."
   ]
  },
  {
   "cell_type": "code",
   "execution_count": null,
   "id": "0d59ac67-46b5-41a0-93c8-7b8e3efefa13",
   "metadata": {},
   "outputs": [],
   "source": [
    "Deadlock : A deadlock is a situation in concurrent programming where two or more threads are unable to proceed because each is waiting for the other to release a resource.\n",
    "Race Conditions : A race condition occurs in concurrent programming when the behavior of a program depends on the relative timing of events, such as the order in which threads are scheduled to run."
   ]
  },
  {
   "cell_type": "code",
   "execution_count": null,
   "id": "83a051bc-7f57-4edf-95d1-57b676658a77",
   "metadata": {},
   "outputs": [],
   "source": []
  },
  {
   "cell_type": "code",
   "execution_count": null,
   "id": "77780a5c-8ff4-4de2-966f-46f0729f0037",
   "metadata": {},
   "outputs": [],
   "source": []
  }
 ],
 "metadata": {
  "kernelspec": {
   "display_name": "Python 3 (ipykernel)",
   "language": "python",
   "name": "python3"
  },
  "language_info": {
   "codemirror_mode": {
    "name": "ipython",
    "version": 3
   },
   "file_extension": ".py",
   "mimetype": "text/x-python",
   "name": "python",
   "nbconvert_exporter": "python",
   "pygments_lexer": "ipython3",
   "version": "3.10.8"
  }
 },
 "nbformat": 4,
 "nbformat_minor": 5
}
